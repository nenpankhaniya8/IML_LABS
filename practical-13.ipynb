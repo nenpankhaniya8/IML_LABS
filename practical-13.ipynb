{
 "cells": [
  {
   "cell_type": "markdown",
   "id": "69db1803",
   "metadata": {
    "_cell_guid": "b1076dfc-b9ad-4769-8c92-a6c4dae69d19",
    "_uuid": "8f2839f25d086af736a60e9eeb907d3b93b6e0e5",
    "papermill": {
     "duration": 0.002583,
     "end_time": "2023-11-04T17:38:10.407131",
     "exception": false,
     "start_time": "2023-11-04T17:38:10.404548",
     "status": "completed"
    },
    "tags": []
   },
   "source": [
    "# Write a Python program to implement K-Nearest Neighbour supervised machine learning algorithm for given dataset."
   ]
  },
  {
   "cell_type": "code",
   "execution_count": 1,
   "id": "9d775531",
   "metadata": {
    "execution": {
     "iopub.execute_input": "2023-11-04T17:38:10.413609Z",
     "iopub.status.busy": "2023-11-04T17:38:10.412972Z",
     "iopub.status.idle": "2023-11-04T17:38:12.300779Z",
     "shell.execute_reply": "2023-11-04T17:38:12.299276Z"
    },
    "papermill": {
     "duration": 1.896174,
     "end_time": "2023-11-04T17:38:12.305521",
     "exception": false,
     "start_time": "2023-11-04T17:38:10.409347",
     "status": "completed"
    },
    "tags": []
   },
   "outputs": [
    {
     "name": "stdout",
     "output_type": "stream",
     "text": [
      "Accuracy of the K-NN classifier with k=3: 100.00%\n"
     ]
    }
   ],
   "source": [
    "# Import necessary libraries\n",
    "from sklearn import datasets\n",
    "from sklearn.model_selection import train_test_split\n",
    "from sklearn.neighbors import KNeighborsClassifier\n",
    "from sklearn.metrics import accuracy_score\n",
    "\n",
    "# Step 2: Load and preprocess the dataset\n",
    "# Let's use the Iris dataset as an example\n",
    "iris = datasets.load_iris()\n",
    "X = iris.data  # Features\n",
    "y = iris.target  # Target labels\n",
    "\n",
    "# Step 3: Split the dataset into training and testing sets\n",
    "X_train, X_test, y_train, y_test = train_test_split(X, y, test_size=0.2, random_state=42)\n",
    "\n",
    "# Step 4: Create and train the K-NN classifier\n",
    "k = 3  # You can adjust the value of k as needed\n",
    "knn_classifier = KNeighborsClassifier(n_neighbors=k)\n",
    "knn_classifier.fit(X_train, y_train)\n",
    "\n",
    "# Step 5: Make predictions on the test data\n",
    "y_pred = knn_classifier.predict(X_test)\n",
    "\n",
    "# Step 6: Evaluate the model's performance\n",
    "accuracy = accuracy_score(y_test, y_pred)\n",
    "print(f\"Accuracy of the K-NN classifier with k={k}: {accuracy * 100:.2f}%\")"
   ]
  },
  {
   "cell_type": "code",
   "execution_count": null,
   "id": "259ec356",
   "metadata": {
    "papermill": {
     "duration": 0.002161,
     "end_time": "2023-11-04T17:38:12.310667",
     "exception": false,
     "start_time": "2023-11-04T17:38:12.308506",
     "status": "completed"
    },
    "tags": []
   },
   "outputs": [],
   "source": []
  }
 ],
 "metadata": {
  "kernelspec": {
   "display_name": "Python 3",
   "language": "python",
   "name": "python3"
  },
  "language_info": {
   "codemirror_mode": {
    "name": "ipython",
    "version": 3
   },
   "file_extension": ".py",
   "mimetype": "text/x-python",
   "name": "python",
   "nbconvert_exporter": "python",
   "pygments_lexer": "ipython3",
   "version": "3.10.12"
  },
  "papermill": {
   "default_parameters": {},
   "duration": 6.219415,
   "end_time": "2023-11-04T17:38:12.834963",
   "environment_variables": {},
   "exception": null,
   "input_path": "__notebook__.ipynb",
   "output_path": "__notebook__.ipynb",
   "parameters": {},
   "start_time": "2023-11-04T17:38:06.615548",
   "version": "2.4.0"
  }
 },
 "nbformat": 4,
 "nbformat_minor": 5
}
